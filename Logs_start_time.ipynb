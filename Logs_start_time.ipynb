{
 "cells": [
  {
   "cell_type": "code",
   "execution_count": 0,
   "metadata": {
    "application/vnd.databricks.v1+cell": {
     "cellMetadata": {
      "byteLimit": 2048000,
      "implicitDf": true,
      "rowLimit": 10000
     },
     "inputWidgets": {},
     "nuid": "6fb0e7d8-210e-45f8-8e9e-e1ea0763e2ba",
     "showTitle": false,
     "tableResultSettingsMap": {},
     "title": ""
    }
   },
   "outputs": [],
   "source": [
    "dbutils.widgets.text(\"pipeline_name\", \"\")\n",
    "dbutils.widgets.text(\"run_id\", \"\")\n",
    "dbutils.widgets.text(\"status\", \"\")\n",
    "dbutils.widgets.text(\"pipeline_start_time\", \"\")\n",
    "dbutils.widgets.text(\"pipeline_end_time\", \"\")\n"
   ]
  },
  {
   "cell_type": "code",
   "execution_count": 0,
   "metadata": {
    "application/vnd.databricks.v1+cell": {
     "cellMetadata": {
      "byteLimit": 2048000,
      "rowLimit": 10000
     },
     "inputWidgets": {},
     "nuid": "d3c71188-8f72-4ab3-8ada-4026a74419be",
     "showTitle": false,
     "tableResultSettingsMap": {},
     "title": ""
    }
   },
   "outputs": [],
   "source": [
    "from pyspark.sql.types import StructType, StructField, StringType, TimestampType, LongType\n",
    "from pyspark.sql.functions import monotonically_increasing_id, current_timestamp\n",
    "\n",
    "# Retrieve parameters passed from ADF using widgets\n",
    "pipeline_name = dbutils.widgets.get(\"pipeline_name\")\n",
    "run_id = dbutils.widgets.get(\"run_id\")\n",
    "status = dbutils.widgets.get(\"status\")\n",
    "pipeline_start_time = dbutils.widgets.get(\"pipeline_start_time\")\n",
    "pipeline_end_time = dbutils.widgets.get(\"pipeline_end_time\")\n",
    "\n",
    "# Define the schema explicitly\n",
    "schema = StructType([\n",
    "    StructField(\"pipeline_name\", StringType(), True),\n",
    "    StructField(\"run_id\", StringType(), True),\n",
    "    StructField(\"status\", StringType(), True),\n",
    "    StructField(\"pipeline_start_time\", StringType(), True),\n",
    "    StructField(\"pipeline_end_time\", StringType(), True),\n",
    "    StructField(\"ingestion_timestamp\", TimestampType(), True),\n",
    "    StructField(\"log_id\", LongType(), True)\n",
    "])\n",
    "\n",
    "# Create a DataFrame with the log details (without log_id)\n",
    "log_df = spark.createDataFrame(\n",
    "    [(pipeline_name, run_id, status, pipeline_start_time, pipeline_end_time, None, None)],\n",
    "    schema=schema\n",
    ")\n",
    "\n",
    "# Add a unique log_id using monotonically_increasing_id() and set ingestion_timestamp\n",
    "log_df = log_df.withColumn(\"log_id\", monotonically_increasing_id())\n",
    "log_df = log_df.withColumn(\"ingestion_timestamp\", current_timestamp())\n",
    "\n",
    "# Write the record to the Delta log table without mergeSchema\n",
    "log_df.write.format(\"delta\").mode(\"append\").saveAsTable(\"cyberassesmentdatabricks.logs.ingestion_log\")\n"
   ]
  },
  {
   "cell_type": "code",
   "execution_count": 0,
   "metadata": {
    "application/vnd.databricks.v1+cell": {
     "cellMetadata": {
      "byteLimit": 2048000,
      "implicitDf": true,
      "rowLimit": 10000
     },
     "inputWidgets": {},
     "nuid": "8103672f-0a1d-436f-812d-d0ca1112ad6c",
     "showTitle": false,
     "tableResultSettingsMap": {},
     "title": ""
    }
   },
   "outputs": [
    {
     "output_type": "display_data",
     "data": {
      "text/html": [
       "<style scoped>\n",
       "  .table-result-container {\n",
       "    max-height: 300px;\n",
       "    overflow: auto;\n",
       "  }\n",
       "  table, th, td {\n",
       "    border: 1px solid black;\n",
       "    border-collapse: collapse;\n",
       "  }\n",
       "  th, td {\n",
       "    padding: 5px;\n",
       "  }\n",
       "  th {\n",
       "    text-align: left;\n",
       "  }\n",
       "</style><div class='table-result-container'><table class='table-result'><thead style='background-color: white'><tr><th>pipeline_name</th><th>run_id</th><th>status</th><th>pipeline_start_time</th><th>pipeline_end_time</th><th>ingestion_timestamp</th><th>log_id</th></tr></thead><tbody><tr><td>Json_to_Delta_Lake_Delta_Load_go</td><td>70999fe8-d53f-4496-94b3-d562d48cc98b</td><td>\"Success\"</td><td>2025-02-27T04:44:42.4132504Z</td><td>2025-02-27T04:46:36.3986751Z</td><td>2025-02-27T04:46:46.16502Z</td><td>25769803776</td></tr><tr><td>Json_to_Delta_Lake_Delta_Load_go</td><td>1290dd10-32a3-4002-a2ee-d039b1531516</td><td>\"Failed\"</td><td>2025-02-27T04:40:51.5155542Z</td><td>2025-02-27T04:41:13.1704777Z</td><td>2025-02-27T04:41:23.365753Z</td><td>25769803776</td></tr><tr><td>Json_to_Delta_Lake_Delta_Load_go</td><td>e113e9ed-33d7-487d-b1b6-e85a6b5376e3</td><td>\"Failed\"</td><td>2025-02-27T04:38:30.2202462Z</td><td>2025-02-27T04:39:08.0664357Z</td><td>2025-02-27T04:39:19.142175Z</td><td>25769803776</td></tr><tr><td>Json_to_Delta_Lake_Delta_Load_go</td><td>6803c4d5-4783-4dde-a476-833bc0156be2</td><td>\"Failed\"</td><td>2025-02-27T03:46:59.687477Z</td><td>2025-02-27T03:47:38.7885247Z</td><td>2025-02-27T03:47:50.114716Z</td><td>25769803776</td></tr><tr><td>Json_to_delta</td><td>36b6ff86-89b0-4126-b0de-155fb19d72ed</td><td>\"Success\"</td><td>2025-02-25T22:46:14.6475586Z</td><td>2025-02-25T22:46:16.9468542Z</td><td>2025-02-25T22:46:38.248343Z</td><td>25769803776</td></tr><tr><td>Json_to_delta</td><td>69b90915-3436-4c71-96be-430733c2ffdc</td><td>\"Success\"</td><td>2025-02-25T22:47:28.1123015Z</td><td>2025-02-25T22:48:36.6674754Z</td><td>2025-02-25T22:48:46.041289Z</td><td>25769803776</td></tr></tbody></table></div>"
      ]
     },
     "metadata": {
      "application/vnd.databricks.v1+output": {
       "addedWidgets": {},
       "aggData": [],
       "aggError": "",
       "aggOverflow": false,
       "aggSchema": [],
       "aggSeriesLimitReached": false,
       "aggType": "",
       "arguments": {},
       "columnCustomDisplayInfos": {},
       "data": [
        [
         "Json_to_Delta_Lake_Delta_Load_go",
         "70999fe8-d53f-4496-94b3-d562d48cc98b",
         "\"Success\"",
         "2025-02-27T04:44:42.4132504Z",
         "2025-02-27T04:46:36.3986751Z",
         "2025-02-27T04:46:46.16502Z",
         25769803776
        ],
        [
         "Json_to_Delta_Lake_Delta_Load_go",
         "1290dd10-32a3-4002-a2ee-d039b1531516",
         "\"Failed\"",
         "2025-02-27T04:40:51.5155542Z",
         "2025-02-27T04:41:13.1704777Z",
         "2025-02-27T04:41:23.365753Z",
         25769803776
        ],
        [
         "Json_to_Delta_Lake_Delta_Load_go",
         "e113e9ed-33d7-487d-b1b6-e85a6b5376e3",
         "\"Failed\"",
         "2025-02-27T04:38:30.2202462Z",
         "2025-02-27T04:39:08.0664357Z",
         "2025-02-27T04:39:19.142175Z",
         25769803776
        ],
        [
         "Json_to_Delta_Lake_Delta_Load_go",
         "6803c4d5-4783-4dde-a476-833bc0156be2",
         "\"Failed\"",
         "2025-02-27T03:46:59.687477Z",
         "2025-02-27T03:47:38.7885247Z",
         "2025-02-27T03:47:50.114716Z",
         25769803776
        ],
        [
         "Json_to_delta",
         "36b6ff86-89b0-4126-b0de-155fb19d72ed",
         "\"Success\"",
         "2025-02-25T22:46:14.6475586Z",
         "2025-02-25T22:46:16.9468542Z",
         "2025-02-25T22:46:38.248343Z",
         25769803776
        ],
        [
         "Json_to_delta",
         "69b90915-3436-4c71-96be-430733c2ffdc",
         "\"Success\"",
         "2025-02-25T22:47:28.1123015Z",
         "2025-02-25T22:48:36.6674754Z",
         "2025-02-25T22:48:46.041289Z",
         25769803776
        ]
       ],
       "datasetInfos": [],
       "dbfsResultPath": null,
       "isJsonSchema": true,
       "metadata": {
        "createTempViewForImplicitDf": true,
        "dataframeName": "_sqldf",
        "executionCount": 1
       },
       "overflow": false,
       "plotOptions": {
        "customPlotOptions": {},
        "displayType": "table",
        "pivotAggregation": null,
        "pivotColumns": null,
        "xColumns": null,
        "yColumns": null
       },
       "removedWidgets": [],
       "schema": [
        {
         "metadata": "{}",
         "name": "pipeline_name",
         "type": "\"string\""
        },
        {
         "metadata": "{}",
         "name": "run_id",
         "type": "\"string\""
        },
        {
         "metadata": "{}",
         "name": "status",
         "type": "\"string\""
        },
        {
         "metadata": "{}",
         "name": "pipeline_start_time",
         "type": "\"string\""
        },
        {
         "metadata": "{}",
         "name": "pipeline_end_time",
         "type": "\"string\""
        },
        {
         "metadata": "{}",
         "name": "ingestion_timestamp",
         "type": "\"timestamp\""
        },
        {
         "metadata": "{}",
         "name": "log_id",
         "type": "\"long\""
        }
       ],
       "type": "table"
      }
     },
     "output_type": "display_data"
    }
   ],
   "source": [
    "%sql\n",
    "select * from cyberassesmentdatabricks.logs.ingestion_log"
   ]
  },
  {
   "cell_type": "code",
   "execution_count": 0,
   "metadata": {
    "application/vnd.databricks.v1+cell": {
     "cellMetadata": {},
     "inputWidgets": {},
     "nuid": "3d9387ad-c78b-405a-a037-81936aa2fd95",
     "showTitle": false,
     "tableResultSettingsMap": {},
     "title": ""
    }
   },
   "outputs": [],
   "source": []
  }
 ],
 "metadata": {
  "application/vnd.databricks.v1+notebook": {
   "computePreferences": null,
   "dashboards": [],
   "environmentMetadata": {
    "base_environment": "",
    "environment_version": "2"
   },
   "language": "python",
   "notebookMetadata": {
    "mostRecentlyExecutedCommandWithImplicitDF": {
     "commandId": 5584123421618058,
     "dataframes": [
      "_sqldf"
     ]
    },
    "pythonIndentUnit": 4
   },
   "notebookName": "Logs_start_time",
   "widgets": {
    "error_link": {
     "currentValue": "",
     "nuid": "922e8327-fc9a-4998-ab03-50c87e58ac5c",
     "typedWidgetInfo": {
      "autoCreated": false,
      "defaultValue": "",
      "label": null,
      "name": "error_link",
      "options": {
       "widgetDisplayType": "Text",
       "validationRegex": null
      },
      "parameterDataType": "String"
     },
     "widgetInfo": {
      "widgetType": "text",
      "defaultValue": "",
      "label": null,
      "name": "error_link",
      "options": {
       "widgetType": "text",
       "autoCreated": false,
       "validationRegex": null
      }
     }
    },
    "pipeline_end_time": {
     "currentValue": "",
     "nuid": "caa2006d-d1c3-42f3-8573-9a489d3c2bef",
     "typedWidgetInfo": {
      "autoCreated": false,
      "defaultValue": "",
      "label": null,
      "name": "pipeline_end_time",
      "options": {
       "widgetDisplayType": "Text",
       "validationRegex": null
      },
      "parameterDataType": "String"
     },
     "widgetInfo": {
      "widgetType": "text",
      "defaultValue": "",
      "label": null,
      "name": "pipeline_end_time",
      "options": {
       "widgetType": "text",
       "autoCreated": null,
       "validationRegex": null
      }
     }
    },
    "pipeline_name": {
     "currentValue": "",
     "nuid": "f0511ee0-be2e-4cf8-9026-79b9822c5c13",
     "typedWidgetInfo": {
      "autoCreated": false,
      "defaultValue": "",
      "label": null,
      "name": "pipeline_name",
      "options": {
       "widgetDisplayType": "Text",
       "validationRegex": null
      },
      "parameterDataType": "String"
     },
     "widgetInfo": {
      "widgetType": "text",
      "defaultValue": "",
      "label": null,
      "name": "pipeline_name",
      "options": {
       "widgetType": "text",
       "autoCreated": null,
       "validationRegex": null
      }
     }
    },
    "pipeline_start_time": {
     "currentValue": "",
     "nuid": "46a8a7b0-c36d-43ef-a228-74c85aa734ac",
     "typedWidgetInfo": {
      "autoCreated": false,
      "defaultValue": "",
      "label": null,
      "name": "pipeline_start_time",
      "options": {
       "widgetDisplayType": "Text",
       "validationRegex": null
      },
      "parameterDataType": "String"
     },
     "widgetInfo": {
      "widgetType": "text",
      "defaultValue": "",
      "label": null,
      "name": "pipeline_start_time",
      "options": {
       "widgetType": "text",
       "autoCreated": null,
       "validationRegex": null
      }
     }
    },
    "run_id": {
     "currentValue": "",
     "nuid": "5f90fa2d-40ec-4e3a-9b6e-e78f124a0970",
     "typedWidgetInfo": {
      "autoCreated": false,
      "defaultValue": "",
      "label": null,
      "name": "run_id",
      "options": {
       "widgetDisplayType": "Text",
       "validationRegex": null
      },
      "parameterDataType": "String"
     },
     "widgetInfo": {
      "widgetType": "text",
      "defaultValue": "",
      "label": null,
      "name": "run_id",
      "options": {
       "widgetType": "text",
       "autoCreated": null,
       "validationRegex": null
      }
     }
    },
    "status": {
     "currentValue": "",
     "nuid": "f78e2ed0-0e0e-4a72-98cc-f0c7db5bd3fc",
     "typedWidgetInfo": {
      "autoCreated": false,
      "defaultValue": "",
      "label": null,
      "name": "status",
      "options": {
       "widgetDisplayType": "Text",
       "validationRegex": null
      },
      "parameterDataType": "String"
     },
     "widgetInfo": {
      "widgetType": "text",
      "defaultValue": "",
      "label": null,
      "name": "status",
      "options": {
       "widgetType": "text",
       "autoCreated": null,
       "validationRegex": null
      }
     }
    }
   }
  },
  "language_info": {
   "name": "python"
  }
 },
 "nbformat": 4,
 "nbformat_minor": 0
}